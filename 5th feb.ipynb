{
 "cells": [
  {
   "cell_type": "code",
   "execution_count": null,
   "id": "49067b7d-e840-4793-b0fa-2e4b9e66f692",
   "metadata": {},
   "outputs": [],
   "source": [
    "Q1. Explain Class and Object with respect to Object-Oriented Programming. Give a suitable example.\n",
    "\n",
    "A class is a blueprint for creating objects. It defines a set of attributes and methods that describe the behavior of objects that belong to the class.\n",
    "An object is an instance of a class. It represents a specific example of the data and behavior described by the class.\n",
    "For example, let uss consider a Person class. This class could have attributes like name, age, and gender, as well as methods like speak(), walk(), and eat(). An object of the Person class would represent a specific person, with values for the name, age, and gender attributes, \n",
    "and would be able to call the methods defined by the class (e.g., person.speak() to make the person speak).\n",
    "\n",
    "Q2. Name the four pillars of OOPs.\n",
    "\n",
    "The four pillars of object-oriented programming are:\n",
    "\n",
    "Encapsulation: This refers to the practice of hiding the internal details of an object from the outside world, and providing a well-defined interface for interacting with the object.\n",
    "Abstraction: This refers to the practice of representing complex systems with simplified models. It involves defining a set of interfaces that allow users to interact with an object without needing to understand the internal details of how it works.\n",
    "Inheritance: This refers to the ability of one class to inherit attributes and methods from another class. It allows for the creation of a hierarchy of classes that share common behaviors.\n",
    "Polymorphism: This refers to the ability of objects of different classes to be used interchangeably. It allows for the creation of code that is more modular and extensible, since new classes can be added without breaking existing code.\n",
    "\n",
    "Q3. Explain why the init() function is used. Give a suitable example.\n",
    "\n",
    "The __init__() function is a special method that is called when an object of a class is created. It is used to set up the initial state of the object by initializing its attributes.\n",
    "\n",
    "For example, let us consider a Person class with name and age attributes:\n",
    "\n",
    "class Person:\n",
    "    def __init__(self, name, age):\n",
    "        self.name = name\n",
    "        self.age = age\n",
    "Here, the __init__() function takes two arguments (name and age) in addition to the self parameter (which refers to the object being created). Inside the function, it initializes the name and age attributes of the object using the values passed in as arguments.\n",
    "\n",
    "When an object of the Person class is created, the __init__() function is automatically called to set its initial state:\n",
    "\n",
    "\n",
    "person = Person(\"Alice\", 25)\n",
    "Here, a new Person object is created with name \"Alice\" and age 25.\n",
    "\n",
    "Q4. Why self is used in OOPs?\n",
    "\n",
    "The self parameter is used in object-oriented programming to refer to the object that a method is being called on. \n",
    "It is a convention used in Python (and many other object-oriented languages) to make it clear which object a method is \n",
    "operating on.\n",
    "\n"
   ]
  }
 ],
 "metadata": {
  "kernelspec": {
   "display_name": "Python 3 (ipykernel)",
   "language": "python",
   "name": "python3"
  },
  "language_info": {
   "codemirror_mode": {
    "name": "ipython",
    "version": 3
   },
   "file_extension": ".py",
   "mimetype": "text/x-python",
   "name": "python",
   "nbconvert_exporter": "python",
   "pygments_lexer": "ipython3",
   "version": "3.10.8"
  }
 },
 "nbformat": 4,
 "nbformat_minor": 5
}
