{
 "cells": [
  {
   "cell_type": "code",
   "execution_count": null,
   "id": "da76fe63-6d18-446e-9486-7ef66dc84201",
   "metadata": {},
   "outputs": [],
   "source": [
    "Ans1:\n",
    "marks=int(input(\"Enter the marks received : \"))\n",
    "if marks>90:\n",
    "    print(\"your grade is : \",\"A\")\n",
    "elif marks>80 and marks<=90:\n",
    "    print(\"your grade is : \",\"B\")\n",
    "elif marks>=60 and marks<=80:\n",
    "    print(\"your grade is : \",\"C\")\n",
    "else:\n",
    "    print(\"your grade is : \",\"D\")\n"
   ]
  },
  {
   "cell_type": "code",
   "execution_count": null,
   "id": "2ffea57d-217b-40ee-b823-0667eeb04823",
   "metadata": {},
   "outputs": [],
   "source": [
    "Ans 2:\n",
    "Cost_price=int(input(\"Enter the cost price of the bike : \"))\n",
    "if Cost_price<=50000:\n",
    "    tax=Cost_price*0.05\n",
    "    print(\"Tax to be paid is : \",tax)\n",
    "elif Cost_price>50000 and Cost_price<=100000:\n",
    "    tax=(Cost_price-50000)*0.1+50000*0.05\n",
    "    print(\"Tax to be paid is : \",tax)\n",
    "elif Cost_price>100000:\n",
    "    tax=(Cost_price-100000)*0.1+50000*0.05+50000*0.1\n",
    "    print(\"Tax to be paid is : \",tax)"
   ]
  },
  {
   "cell_type": "code",
   "execution_count": null,
   "id": "558723bb-d6af-440e-b5e4-6aeb4fb2ef0b",
   "metadata": {},
   "outputs": [],
   "source": [
    "Ans 3:\n",
    "str=input(\"Please select the city from : Delhi,Agra,Jaipur \\n Your choice is : \")\n",
    "\n",
    "if str.title()==\"Delhi\":\n",
    "    print(\"Monument is : \",\"Red Fort\")\n",
    "elif str.title()==\"Agra\":\n",
    "    print(\"Monument is : \",\"Taj Mahal\")\n",
    "elif str.title()==\"Jaipur\":\n",
    "    print(\"Monument is : \",\"Jai Mahal\")   \n",
    "else:\n",
    "    print(\"Wrong Choice\")\n",
    "    "
   ]
  },
  {
   "cell_type": "code",
   "execution_count": null,
   "id": "daf1893e-a5bd-4b8a-abba-797c3a8218e6",
   "metadata": {},
   "outputs": [],
   "source": [
    "Ans 4: \n",
    "number = int(input(\"Enter a number: \"))\n",
    "\n",
    "count = 0\n",
    "while number > 10:\n",
    "    number = number / 3\n",
    "    count += 1\n",
    "\n",
    "print(\"The given number can be divided by 3\", count, \"times before it is less than or equal to 10.\")\n"
   ]
  },
  {
   "cell_type": "code",
   "execution_count": null,
   "id": "cf7e5581-2d67-4b25-ab3b-20a5a232b02b",
   "metadata": {},
   "outputs": [],
   "source": [
    "Ans 5:\n",
    "A while loop in Python is used to repeatedly execute a block of code as long as a condition is True.\n",
    "The while loop continues to execute the block of code until the condition becomes False. It is specially beneficial when \n",
    "we know the number of times the loop is to be run.\n",
    "# Prompting the user for a positive number\n",
    "number = -1\n",
    "while number < 0:\n",
    "    number = int(input(\"Please Enter a positive number: \"))\n",
    "print(\"Number You entered:\", number)\n",
    "Here we used while loop because we did not know after how many times would the user enter a positive number"
   ]
  },
  {
   "cell_type": "code",
   "execution_count": null,
   "id": "64f85544-b31c-4fd9-bdb3-4be890ad64de",
   "metadata": {},
   "outputs": [],
   "source": [
    "Ans 6:\n",
    "Three different patterns :\n",
    "    # Pattern 1: Square\n",
    "i = 1\n",
    "while i <= 5:\n",
    "    j = 1\n",
    "    while j <= 5:\n",
    "        print(\"*\", end=\"\")\n",
    "        j += 1\n",
    "    print(\"\")\n",
    "    i += 1\n",
    "    \n",
    "# Pattern 2: Right triangle\n",
    "i = 1\n",
    "while i <= 5:\n",
    "    j = 1\n",
    "    while j <= i:\n",
    "        print(\"*\", end=\"\")\n",
    "        j += 1\n",
    "    print(\"\")\n",
    "    i += 1\n",
    "    \n",
    "# Pattern 3: Upside-down right triangle\n",
    "i = 5\n",
    "while i >= 1:\n",
    "    j = 1\n",
    "    while j <= i:\n",
    "        print(\"*\", end=\"\")\n",
    "        j += 1\n",
    "    print(\"\")\n",
    "    i -= 1"
   ]
  },
  {
   "cell_type": "code",
   "execution_count": null,
   "id": "a50cc733-ca59-43fb-a74b-82a6163e24e2",
   "metadata": {},
   "outputs": [],
   "source": [
    "Ans 7:\n",
    "\n",
    "number = 10\n",
    "while number >= 1:\n",
    "    print(number)\n",
    "    number -= 1"
   ]
  }
 ],
 "metadata": {
  "kernelspec": {
   "display_name": "Python 3 (ipykernel)",
   "language": "python",
   "name": "python3"
  },
  "language_info": {
   "codemirror_mode": {
    "name": "ipython",
    "version": 3
   },
   "file_extension": ".py",
   "mimetype": "text/x-python",
   "name": "python",
   "nbconvert_exporter": "python",
   "pygments_lexer": "ipython3",
   "version": "3.10.8"
  }
 },
 "nbformat": 4,
 "nbformat_minor": 5
}
