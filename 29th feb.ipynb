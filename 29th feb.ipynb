{
 "cells": [
  {
   "cell_type": "code",
   "execution_count": null,
   "id": "a66f13e2-f134-4280-8da8-af4e055a05b5",
   "metadata": {},
   "outputs": [],
   "source": [
    "Ans1: \n",
    "Guido van Rossum"
   ]
  },
  {
   "cell_type": "code",
   "execution_count": null,
   "id": "6f107f5f-57a2-4856-b04d-f06e9c572ccf",
   "metadata": {},
   "outputs": [],
   "source": [
    "Ans 2:\n",
    " object-oriented, structured, and functional programming"
   ]
  },
  {
   "cell_type": "code",
   "execution_count": null,
   "id": "f7306e01-c1a2-42cd-b590-bf835a6b0f3b",
   "metadata": {},
   "outputs": [],
   "source": [
    "Ans 3:\n",
    "Yes, Python is a case-sensitive language"
   ]
  },
  {
   "cell_type": "code",
   "execution_count": null,
   "id": "54fe645e-6c98-4d31-ab81-da0358f668ef",
   "metadata": {},
   "outputs": [],
   "source": [
    "Ans 4:\n",
    "extension for python file is .py"
   ]
  },
  {
   "cell_type": "code",
   "execution_count": null,
   "id": "cb320f71-6708-421b-8235-77ddd5c1b80e",
   "metadata": {},
   "outputs": [],
   "source": [
    "ans 5:\n",
    "    Python is both compiled as well as an interpreted language"
   ]
  },
  {
   "cell_type": "code",
   "execution_count": null,
   "id": "e45c9802-0e3c-44a2-a6d2-423570a23f28",
   "metadata": {},
   "outputs": [],
   "source": [
    "Ans 6:\n",
    "    a function body, class definition, module"
   ]
  },
  {
   "cell_type": "code",
   "execution_count": null,
   "id": "441105ae-f30c-40d1-b905-f6e1847374e2",
   "metadata": {},
   "outputs": [],
   "source": [
    "Ans 7:\n",
    "    # is used to give single line comment"
   ]
  },
  {
   "cell_type": "code",
   "execution_count": null,
   "id": "7dfbbcee-975e-40bc-809f-a745d2f9b37b",
   "metadata": {},
   "outputs": [],
   "source": [
    "Ans 8:\n",
    "python_version()"
   ]
  },
  {
   "cell_type": "code",
   "execution_count": null,
   "id": "9a4de6a0-a13e-4483-93c6-a67cf76bdf11",
   "metadata": {},
   "outputs": [],
   "source": [
    "Ans 9:\n",
    "Lambda"
   ]
  },
  {
   "cell_type": "code",
   "execution_count": null,
   "id": "8ef652b7-063b-4e2b-a19a-68e8dd6311de",
   "metadata": {},
   "outputs": [],
   "source": [
    "Ans 10:\n",
    "pip is preferred installer program"
   ]
  },
  {
   "cell_type": "code",
   "execution_count": null,
   "id": "aaa20f81-18a0-4005-958b-986bd4d6a15f",
   "metadata": {},
   "outputs": [],
   "source": [
    "Ans 11:\n",
    "print( ) function\n",
    "type( ) function\n",
    "input( ) function\n",
    "abs( ) function\n",
    "pow( ) function"
   ]
  },
  {
   "cell_type": "code",
   "execution_count": null,
   "id": "31ba4314-549c-433a-a7ea-d9e8d4f093f9",
   "metadata": {},
   "outputs": [],
   "source": [
    "Ans 12:\n",
    "79 characters is the max length of identifier"
   ]
  },
  {
   "cell_type": "code",
   "execution_count": null,
   "id": "9407c1d2-ced5-4b85-ace2-0bb2ab138977",
   "metadata": {},
   "outputs": [],
   "source": [
    "Ans 13:\n",
    "    What is Python and benefits of using Python?\n",
    "Python programming language is a general-purpose, interpreted, and high-level language that mainly offers code readability. It is largely used by professional programmers and developers across a variety of fields, including Web Development and Machine Learning."
   ]
  },
  {
   "cell_type": "code",
   "execution_count": null,
   "id": "c96c6395-a2de-42d5-86a6-a05ad72a4c7a",
   "metadata": {},
   "outputs": [],
   "source": [
    "Ans 14:\n",
    "Memory in Python is managed by Python private heap space. All Python objects and data structures are located in a private heap. This private heap is taken care of by Python Interpreter itself, and a programmer doesn't have access to this private heap."
   ]
  },
  {
   "cell_type": "code",
   "execution_count": null,
   "id": "d5170c6a-079c-4cac-8c9d-7643ab590ee7",
   "metadata": {},
   "outputs": [],
   "source": [
    "Ans 15:\n"
   ]
  },
  {
   "cell_type": "code",
   "execution_count": null,
   "id": "5e0ee562-1f9a-4841-8860-e0068f07886e",
   "metadata": {},
   "outputs": [],
   "source": [
    "Ans 16:\n"
   ]
  }
 ],
 "metadata": {
  "kernelspec": {
   "display_name": "Python 3 (ipykernel)",
   "language": "python",
   "name": "python3"
  },
  "language_info": {
   "codemirror_mode": {
    "name": "ipython",
    "version": 3
   },
   "file_extension": ".py",
   "mimetype": "text/x-python",
   "name": "python",
   "nbconvert_exporter": "python",
   "pygments_lexer": "ipython3",
   "version": "3.10.8"
  }
 },
 "nbformat": 4,
 "nbformat_minor": 5
}
