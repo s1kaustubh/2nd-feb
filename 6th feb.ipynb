{
 "cells": [
  {
   "cell_type": "code",
   "execution_count": 1,
   "id": "afc89c97-c38a-43f4-a2e1-343ccc789b78",
   "metadata": {},
   "outputs": [
    {
     "name": "stdout",
     "output_type": "stream",
     "text": [
      "list with extracted numeric values :  [1, 2, 3, 4, 44, 55, 66, 34, 56, 78, 89, 34, 1, 2, 3, 1, 4, 34, 55, 67, 78, 89, 45, 22, 61, 34, 56]\n",
      "list with squared numeric values :  [1, 4, 9, 16, 1936, 3025, 4356, 1156, 3136, 6084, 7921, 1156, 1, 4, 9, 1, 16, 1156, 3025, 4489, 6084, 7921, 2025, 484, 3721, 1156, 3136]\n"
     ]
    }
   ],
   "source": [
    "\"\"\"Q1. Create a function which will take a list as an argument and return the product of all the numbers\n",
    "after creating a flat list.\n",
    "Use the below-given list as an argument for your function.\n",
    "list1 = [1,2,3,4, [44,55,66, True], False, (34,56,78,89,34), {1,2,3,3,2,1}, {1:34, \"key2\": [55, 67, 78, 89], 4: (45,\n",
    "22, 61, 34)}, [56, 'data science'], 'Machine Learning']\n",
    "Note: you must extract numeric keys and values of the dictionary also.\"\"\"\n",
    "\n",
    "\n",
    "def func1(list1):\n",
    "    lis=[]\n",
    "    for i in list1:\n",
    "        if type(i)==int:\n",
    "            lis.append(i)\n",
    "        elif type(i)==list:\n",
    "            for j in i:\n",
    "                if type(j)==int:\n",
    "                    lis.append(j)\n",
    "        elif type(i)==tuple:\n",
    "            for j in i :\n",
    "                if type(j)==int:\n",
    "                    lis.append(j)\n",
    "        elif type(i)==set:\n",
    "            for j in i :\n",
    "                if type(j)==int:\n",
    "                    lis.append(j)\n",
    "        elif type(i)==dict:\n",
    "            for j in i.keys():\n",
    "                if type(j)==int:\n",
    "                    lis.append(j)\n",
    "            else:\n",
    "                for j in i.values():\n",
    "                    if type(j)==int:\n",
    "                        lis.append(j)\n",
    "                    elif type(j)==list:\n",
    "                        for k in j:\n",
    "                            if type(k)==int:\n",
    "                                lis.append(k)\n",
    "                    elif type(j)==tuple:\n",
    "                        for k in j :\n",
    "                            if type(k)==int:\n",
    "                                lis.append(k)\n",
    "\n",
    "    return lis\n",
    "list1 = [1,2,3,4, [44,55,66, True], False, (34,56,78,89,34), {1,2,3,3,2,1}, {1:34, \"key2\": [55, 67, 78, 89], 4: (45,\n",
    "22, 61, 34)}, [56, 'data science']]\n",
    "list2=func1(list1)\n",
    "print(\"list with extracted numeric values : \", list2)\n",
    "print(\"list with squared numeric values : \",list(x**2 for x in list2))                    \n",
    "                "
   ]
  },
  {
   "cell_type": "code",
   "execution_count": null,
   "id": "5c432ba1-c390-4a3b-ad98-b7e66535b43b",
   "metadata": {},
   "outputs": [],
   "source": []
  }
 ],
 "metadata": {
  "kernelspec": {
   "display_name": "Python 3 (ipykernel)",
   "language": "python",
   "name": "python3"
  },
  "language_info": {
   "codemirror_mode": {
    "name": "ipython",
    "version": 3
   },
   "file_extension": ".py",
   "mimetype": "text/x-python",
   "name": "python",
   "nbconvert_exporter": "python",
   "pygments_lexer": "ipython3",
   "version": "3.10.8"
  }
 },
 "nbformat": 4,
 "nbformat_minor": 5
}
