{
 "cells": [
  {
   "cell_type": "code",
   "execution_count": 2,
   "id": "b98fcbf9-2b6f-422e-90e6-ed37fe27b987",
   "metadata": {},
   "outputs": [
    {
     "name": "stdout",
     "output_type": "stream",
     "text": [
      "[1, 3, 5, 7, 9, 11, 13, 15, 17, 19, 21, 23, 25]\n"
     ]
    }
   ],
   "source": [
    "\"\"\"Q1. Which keyword is used to create a function? Create a function to return a list of odd numbers in the\n",
    "range of 1 to 25.\n",
    "def keyword is used to create a function\"\"\"\n",
    "\n",
    "def odd():\n",
    "    l=[]\n",
    "    for i in range(1,26):\n",
    "        if i%2!=0:\n",
    "            l.append(i)\n",
    "    return l\n",
    "print(odd())\n",
    "\n",
    "    "
   ]
  },
  {
   "cell_type": "code",
   "execution_count": null,
   "id": "9ecccde9-4e62-46e3-83b7-961dd16ebb4e",
   "metadata": {},
   "outputs": [],
   "source": [
    "\"\"\"Q2. Why *args and **kwargs is used in some functions? Create a function each for *args and **kwargs\n",
    "to demonstrate their use.\"\"\"\n",
    "*args and **kwargs are used in Python functions to accept an arbitrary number of arguments and keyword arguments, respectively.\n",
    "\n",
    "args is used to pass a variable number of non-keyword arguments to a function. It allows the function to accept any number of positional arguments, which are then stored in a tuple. The term \"args\" stands for \"arguments\" and the preceding asterisk () symbol unpacks the values passed in.\n",
    "\n",
    "Here is an example function that uses *args to calculate the sum of a variable number of integers:\n",
    "\n",
    "\n",
    "def my_sum(*args):\n",
    "    total = 0\n",
    "    for num in args:\n",
    "        total += num\n",
    "    return total\n",
    "kwargs, on the other hand, is used to pass a variable number of keyword arguments to a function. It allows the function to accept any number of keyword arguments, which are then stored in a dictionary. The term \"kwargs\" stands for \"keyword arguments\" and the preceding double asterisk () symbol unpacks the key-value pairs passed in.\n",
    "\n",
    "Here is an example function that uses **kwargs to print the name and age of a person:\n",
    "\n",
    "\n",
    "def person_info(**kwargs):\n",
    "    for key, value in kwargs.items():\n",
    "        print(f\"{key}: {value}\")"
   ]
  },
  {
   "cell_type": "code",
   "execution_count": 10,
   "id": "8b4917df-f3a7-4854-8625-17f662be971e",
   "metadata": {
    "tags": []
   },
   "outputs": [
    {
     "name": "stdout",
     "output_type": "stream",
     "text": [
      "2\n",
      "4\n",
      "6\n",
      "8\n",
      "10\n"
     ]
    }
   ],
   "source": [
    "\"\"\"Q3. What is an iterator in python? Name the method used to initialise the iterator object and the method\n",
    "used for iteration. Use these methods to print the first five elements of the given list [2, 4, 6, 8, 10, 12, 14,\n",
    "16, 18, 20].\"\"\"\n",
    "An iterator in Python is an object that implements the iterator protocol, which consists of the __iter__() and __next__() methods.\n",
    "An iterator is an object that can be iterated (looped) upon, meaning that you can traverse through all the values in the object one by one.\n",
    "\n",
    "The __iter__() method is used to initialize the iterator object, and it returns the iterator object itself.\n",
    "The __next__() method is used to retrieve the next value from the iterator. When there are no more items to return,\n",
    "the __next__() method should raise the StopIteration exception.\n",
    "\n",
    "Here is an example of using an iterator to print the first five elements of the given list [2, 4, 6, 8, 10, 12, 14, 16, 18, 20]:\n",
    "\n",
    "l= [2, 4, 6, 8, 10, 12, 14, 16, 18, 20]\n",
    "iterator=iter(l)\n",
    "for i in range(5):\n",
    "    print(next(iterator))\n"
   ]
  },
  {
   "cell_type": "code",
   "execution_count": null,
   "id": "056920d2-ce32-453b-9c2e-23454bc568e9",
   "metadata": {},
   "outputs": [],
   "source": [
    "\"\"\"Q4. What is a generator function in python? Why yield keyword is used? Give an example of a generator\n",
    "function.\"\"\"\n",
    "\n",
    "A generator function in Python is a special type of function that can be used to create an iterator. Instead of\n",
    "returning a value and terminating like a regular function, a generator function uses the yield keyword to return a\n",
    "value and pause its execution, allowing the caller to resume the function from where it left off at a later time.\n",
    "def genr(n):\n",
    "    for i in range(n):\n",
    "        j=i\n",
    "        yield i\n",
    "        \n",
    "for k in genr(10):\n",
    "    print(k)\n"
   ]
  },
  {
   "cell_type": "code",
   "execution_count": null,
   "id": "eb6024d8-c625-4f20-b2db-8b55286db1c3",
   "metadata": {},
   "outputs": [],
   "source": [
    "\"\"\"Q5. Create a generator function for prime numbers less than 1000. Use the next() method to print the\n",
    "first 20 prime numbers.\"\"\"\n",
    "def genPrime():\n",
    "    for i in range(2,1000):\n",
    "        for k in range(2,i):\n",
    "            if i%k==0:\n",
    "                break\n",
    "        else:\n",
    "            yield i\n",
    "for i in genPrime():\n",
    "    print(i)"
   ]
  },
  {
   "cell_type": "code",
   "execution_count": 3,
   "id": "ac38fa3f-c497-43bf-8284-cc01dd2084f9",
   "metadata": {},
   "outputs": [
    {
     "name": "stdout",
     "output_type": "stream",
     "text": [
      "0\n",
      "1\n",
      "1\n",
      "2\n",
      "3\n",
      "5\n",
      "8\n",
      "13\n",
      "21\n",
      "34\n"
     ]
    }
   ],
   "source": [
    "\"\"\"Q6. Write a python program to print the first 10 Fibonacci numbers using a while loop.\"\"\"\n",
    "a=0\n",
    "b=1\n",
    "i=0\n",
    "while(i<10):\n",
    "    print(a)\n",
    "    c=a+b\n",
    "    a=b\n",
    "    b=c\n",
    "    i+=1\n",
    "    "
   ]
  },
  {
   "cell_type": "code",
   "execution_count": null,
   "id": "8f98b7f6-8212-465a-aeae-a1c152853e92",
   "metadata": {},
   "outputs": [
    {
     "name": "stdout",
     "output_type": "stream",
     "text": [
      "['p', 'w', 's', 'k', 'i', 'l', 'l', 's']\n"
     ]
    }
   ],
   "source": [
    "\"\"\"Q7. Write a List Comprehension to iterate through the given string: ‘pwskills’.\n",
    "Expected output: ['p', 'w', 's', 'k', 'i', 'l', 'l', 's']\"\"\"\n",
    "print(list(i for i in \"pwskills\" ))"
   ]
  },
  {
   "cell_type": "code",
   "execution_count": 6,
   "id": "7eea402c-2f5e-433a-b4a9-5bcb61f931ca",
   "metadata": {},
   "outputs": [
    {
     "name": "stdin",
     "output_type": "stream",
     "text": [
      "Enter the number 131\n"
     ]
    },
    {
     "name": "stdout",
     "output_type": "stream",
     "text": [
      "Yes Palindrome\n"
     ]
    }
   ],
   "source": [
    "\"\"\"Q8. Write a python program to check whether a given number is Palindrome or not using a while loop.\"\"\"\n",
    "num=int(input(\"Enter the number\"))\n",
    "n=num\n",
    "sum=0\n",
    "while(n>0):\n",
    "    r=n%10\n",
    "    sum=sum*10+r\n",
    "    n//=10\n",
    "if sum==num:\n",
    "    print(\"Yes Palindrome\")"
   ]
  },
  {
   "cell_type": "code",
   "execution_count": 10,
   "id": "a03c3f14-082a-43b0-8e51-843053f0958b",
   "metadata": {},
   "outputs": [
    {
     "name": "stdout",
     "output_type": "stream",
     "text": [
      "[1, 2, 3, 4, 5, 6, 7, 8, 9, 10, 11, 12, 13, 14, 15, 16, 17, 18, 19, 20, 21, 22, 23, 24, 25, 26, 27, 28, 29, 30, 31, 32, 33, 34, 35, 36, 37, 38, 39, 40, 41, 42, 43, 44, 45, 46, 47, 48, 49, 50, 51, 52, 53, 54, 55, 56, 57, 58, 59, 60, 61, 62, 63, 64, 65, 66, 67, 68, 69, 70, 71, 72, 73, 74, 75, 76, 77, 78, 79, 80, 81, 82, 83, 84, 85, 86, 87, 88, 89, 90, 91, 92, 93, 94, 95, 96, 97, 98, 99, 100]\n"
     ]
    }
   ],
   "source": [
    "\"\"\"Q9. Write a code to print odd numbers from 1 to 100 using list comprehension.\"\"\"\n",
    "l=list(i for i in range(1,101))\n",
    "print(l)\n",
    "print(list(i for i in range(100) if i % 2!=0))"
   ]
  },
  {
   "cell_type": "code",
   "execution_count": null,
   "id": "0817857b-6f96-4cd6-8573-6432a34d181a",
   "metadata": {},
   "outputs": [],
   "source": []
  }
 ],
 "metadata": {
  "kernelspec": {
   "display_name": "Python 3 (ipykernel)",
   "language": "python",
   "name": "python3"
  },
  "language_info": {
   "codemirror_mode": {
    "name": "ipython",
    "version": 3
   },
   "file_extension": ".py",
   "mimetype": "text/x-python",
   "name": "python",
   "nbconvert_exporter": "python",
   "pygments_lexer": "ipython3",
   "version": "3.10.8"
  }
 },
 "nbformat": 4,
 "nbformat_minor": 5
}
