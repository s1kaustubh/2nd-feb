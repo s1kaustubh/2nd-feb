{
 "cells": [
  {
   "cell_type": "code",
   "execution_count": null,
   "id": "3e354a16-ec73-4ba3-bca6-aa70882a5f62",
   "metadata": {},
   "outputs": [],
   "source": [
    "Q1. Explain with an example each when to use a for loop and a while loop.\n",
    "A for loop is a good choice when we know in advance how many times we want to execute the loop, \n",
    "based on the length of a sequence.It is great choice to use while iterating over a sequence of elements such as strings ,\n",
    "tuples and lists.\n",
    "Example: \n",
    "numbers = [7,9,8,0,6]\n",
    "for i in numbers:\n",
    "    print(i)\n",
    "A while loop is a good choice when we do not know how many times we want the loop to run and the loop should continue until\n",
    "a certain condition is met.\n",
    "example:\n",
    "i=9\n",
    "while(i!=0):\n",
    "   print(\"hello\")\n",
    "   i=i-1\n",
    "    "
   ]
  },
  {
   "cell_type": "code",
   "execution_count": null,
   "id": "a091270b-8d18-4666-a4f1-a09cdc29f139",
   "metadata": {},
   "outputs": [],
   "source": [
    "Q2. Write a python program to print the sum and product of the first 10 natural numbers using for\n",
    "and while loop.\n",
    "USING FOR LOOP:\n",
    "    \n",
    "sum=0\n",
    "product=1\n",
    "for i in range(1,11):\n",
    "    sum+=i\n",
    "    product*=i\n",
    "print(\"sum is :\",sum)\n",
    "print(\"product is:\",product)\n",
    "\n",
    "USING WHILE LOOP:\n",
    "sum=0\n",
    "product=1\n",
    "i=10\n",
    "while(i!=0):\n",
    "    sum+=i\n",
    "    product*=i\n",
    "    i=i-1\n",
    "print(\"sum is :\",sum)\n",
    "print(\"prosuct is :\",product) "
   ]
  },
  {
   "cell_type": "code",
   "execution_count": null,
   "id": "f62d9c60-a2cd-4046-bdb5-250b4363ac82",
   "metadata": {},
   "outputs": [],
   "source": [
    "Q3. Create a python program to compute the electricity bill for a household.\n",
    "The per-unit charges in rupees are as follows: For the first 100 units, the user will be charged Rs. 4.5 per\n",
    "unit, for the next 100 units, the user will be charged Rs. 6 per unit, and for the next 100 units, the user will\n",
    "be charged Rs. 10 per unit, After 300 units and above the user will be charged Rs. 20 per unit.\n",
    "You are required to take the units of electricity consumed in a month from the user as input.\n",
    "Your program must pass this test case: when the unit of electricity consumed by the user in a month is\n",
    "310, the total electricity bill should be 2250.\n",
    "\n",
    "unit=float(input(\"enter the number of units consumed : \"))\n",
    "if(unit<=100):\n",
    "    bill100=unit*4.5\n",
    "    print(\"the total electricity bill would be :\",bill100)\n",
    "elif(unit>100 and unit<=200):\n",
    "    bill200=(unit-100)*6+100*4.5\n",
    "    print(\"the total electricity bill would be :\",bill200)\n",
    "elif(unit>200 and unit<=300):\n",
    "    bill300=(unit-200)*10+100*6+100*4.5\n",
    "    print(\"the total electricity bill would be :\",bill300)\n",
    "else:\n",
    "    bill=(unit-300)*20+100*10+100*6+100*4.5\n",
    "    print(\"the total electricity bill would be :\",bill)\n"
   ]
  },
  {
   "cell_type": "code",
   "execution_count": null,
   "id": "be0a030f-c158-4c93-a12b-bc1b25350593",
   "metadata": {},
   "outputs": [],
   "source": [
    "Q4. Create a list of numbers from 1 to 100. Use for loop and while loop to calculate the cube of each\n",
    "number and if the cube of that number is divisible by 4 or 5 then append that number in a list and print\n",
    "that list.\n",
    "\n",
    "list=[]\n",
    "for i in range(1,101):\n",
    "    list.append(i)\n",
    "#print(\"The original list is : \",list)\n",
    "\n",
    "list1=[]\n",
    "for i in list:\n",
    "    cube=i*i*i\n",
    "    if(cube%4==0 or cube%5==0):\n",
    "        list1.append(i)\n",
    "print(\"List of numbers whose cube is divisible by 4 or 5 using FOR loop : \\n\",list1,\"\\n\")\n",
    "list2=[]\n",
    "i=0\n",
    "while(i!=100):\n",
    "    num=list[i]\n",
    "    cube=num*num*num\n",
    "    if(cube%4==0 or cube%5==0):\n",
    "        list2.append(i)\n",
    "    i=i+1\n",
    "print(\"List of numbers whose cube is divisible by 4 or 5 using FOR loop : \\n\",list1,\"\\n\")"
   ]
  },
  {
   "cell_type": "code",
   "execution_count": null,
   "id": "7cafede9-9b74-4ea0-a0d3-c09ca2831729",
   "metadata": {},
   "outputs": [],
   "source": [
    "string = \"I want to become a data scientist\"\n",
    "vowels = \"aeiouAEIOU\"\n",
    "count = 0\n",
    "\n",
    "for char in string:\n",
    "    if char in vowels:\n",
    "        count += 1\n",
    "\n",
    "print(\"The number of vowels in the string is: \", count)"
   ]
  }
 ],
 "metadata": {
  "kernelspec": {
   "display_name": "Python 3 (ipykernel)",
   "language": "python",
   "name": "python3"
  },
  "language_info": {
   "codemirror_mode": {
    "name": "ipython",
    "version": 3
   },
   "file_extension": ".py",
   "mimetype": "text/x-python",
   "name": "python",
   "nbconvert_exporter": "python",
   "pygments_lexer": "ipython3",
   "version": "3.10.8"
  }
 },
 "nbformat": 4,
 "nbformat_minor": 5
}
