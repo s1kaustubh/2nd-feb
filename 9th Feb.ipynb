{
 "cells": [
  {
   "cell_type": "code",
   "execution_count": null,
   "id": "6cc15baf-ff41-43f2-9163-4f3a10e4f6a5",
   "metadata": {},
   "outputs": [],
   "source": [
    "\"\"\"Q1, Create a vehicle class with an init method having instance variables as name_of_vehicle, max_speed\n",
    "and average_of_vehicle.\"\"\"\n",
    "class vehicle:\n",
    "    def __init__(self,name_of_vehicle,max_speed,average_of_vehicle):\n",
    "        self.name_of_vehicle=name_of_vehicle\n",
    "        self.max_speed=max_speed\n",
    "        self.average_of_vehicle=average_of_vehicle\n",
    "        \n"
   ]
  },
  {
   "cell_type": "code",
   "execution_count": 2,
   "id": "97cd101b-cd79-474f-b937-689804267955",
   "metadata": {},
   "outputs": [
    {
     "data": {
      "text/plain": [
       "('porsche', 5)"
      ]
     },
     "execution_count": 2,
     "metadata": {},
     "output_type": "execute_result"
    }
   ],
   "source": [
    "\"\"\"Q2. Create a child class car from the vehicle class created in Que 1, which will inherit the vehicle class.\n",
    "Create a method named seating_capacity which takes capacity as an argument and returns the name of\n",
    "the vehicle and its seating capacity.\"\"\"\n",
    "class vehicle:\n",
    "    def __init__(self,name_of_vehicle,max_speed,average_of_vehicle):\n",
    "        self.name_of_vehicle=name_of_vehicle\n",
    "        self.max_speed=max_speed\n",
    "        self.average_of_vehicle=average_of_vehicle\n",
    "class child_vehicle(vehicle):\n",
    "    def seating_capcity(self,capacity):\n",
    "        return self.name_of_vehicle,capacity\n",
    "\n",
    "car1=child_vehicle(\"porsche\",300,8)\n",
    "car1.seating_capcity(5)"
   ]
  },
  {
   "cell_type": "code",
   "execution_count": 4,
   "id": "5e202fa1-8299-4ee2-9165-ee8ad29470e6",
   "metadata": {},
   "outputs": [
    {
     "name": "stdout",
     "output_type": "stream",
     "text": [
      "Function from class1\n",
      "Function from class2\n"
     ]
    }
   ],
   "source": [
    "\"\"\"Q3. What is multiple inheritance? Write a python code to demonstrate multiple inheritance.\"\"\"\n",
    "Multiple inheritance is a feature of object-oriented programming languages, in which a subclass can inherit from multiple superclasses.\n",
    "In Python, you can create a class that inherits from multiple classes by listing the parent classes in the parentheses after the class name.\n",
    "class c1:\n",
    "    def func_c1(self):\n",
    "        print(\"Function from class1\")\n",
    "class c2:\n",
    "    def func_c2(self):\n",
    "        print(\"Function from class2\")    \n",
    "class c3(c1,c2):\n",
    "    pass\n",
    "obj=c3()\n",
    "obj.func_c1()\n",
    "obj.func_c2()"
   ]
  },
  {
   "cell_type": "code",
   "execution_count": 9,
   "id": "625e90b6-7a2f-4362-963b-f636ad656858",
   "metadata": {},
   "outputs": [
    {
     "data": {
      "text/plain": [
       "'marcus brownie'"
      ]
     },
     "execution_count": 9,
     "metadata": {},
     "output_type": "execute_result"
    }
   ],
   "source": [
    "\"\"\"Q4. What are getter and setter in python? Create a class and create a getter and a setter method in this\n",
    "class.\"\"\"\n",
    "A getter method, also known as an accessor method, is a method that is used to access the value of a private attribute. \n",
    "It is named in a way that reflects the attribute it is accessing, usually starting with the prefix \"get\".\n",
    "A setter method, also known as a mutator method, is a method that is used to modify the value of a private attribute. \n",
    "It is named in a way that reflects the attribute it is modifying, usually starting with the prefix \"set\". \n",
    "class myName:\n",
    "\n",
    "    def __init__(self,name,surname):\n",
    "        self.__name=name\n",
    "        self.__surname=surname\n",
    "    def setName(self,name,surname):\n",
    "        self.__name=name\n",
    "        self.__surname=surname\n",
    "    def getName(self):\n",
    "        return self.__name+self.__surname\n",
    "\n",
    "me=myName(\"marcus \",\"brownie\")\n",
    "me.getName()\n"
   ]
  },
  {
   "cell_type": "code",
   "execution_count": 11,
   "id": "659e299d-8f43-49d4-ba6d-5126303413b1",
   "metadata": {},
   "outputs": [
    {
     "name": "stdout",
     "output_type": "stream",
     "text": [
      "This is the base class\n",
      "This is the child class\n"
     ]
    }
   ],
   "source": [
    "\"\"\"Q5.What is method overriding in python? Write a python code to demonstrate method overriding.\"\"\"\n",
    "\n",
    "Method overriding is a concept in object-oriented programming where a subclass provides a different implementation of a method that is \n",
    "already defined in its superclass. When a method is overridden in the subclass, the implementation in the subclass is used instead of the\n",
    "implementation in the superclass.\n",
    "class base:\n",
    "    def name(self):\n",
    "        print(\"This is the base class\")\n",
    "class child(base):\n",
    "    def name(self):\n",
    "         print(\"This is the child class\")\n",
    "\n",
    "ob=base()\n",
    "ob.name()\n",
    "ob=child()\n",
    "ob.name()"
   ]
  },
  {
   "cell_type": "code",
   "execution_count": null,
   "id": "704e3db7-32d0-459b-896b-bd3cc21457ff",
   "metadata": {},
   "outputs": [],
   "source": []
  }
 ],
 "metadata": {
  "kernelspec": {
   "display_name": "Python 3 (ipykernel)",
   "language": "python",
   "name": "python3"
  },
  "language_info": {
   "codemirror_mode": {
    "name": "ipython",
    "version": 3
   },
   "file_extension": ".py",
   "mimetype": "text/x-python",
   "name": "python",
   "nbconvert_exporter": "python",
   "pygments_lexer": "ipython3",
   "version": "3.10.8"
  }
 },
 "nbformat": 4,
 "nbformat_minor": 5
}
